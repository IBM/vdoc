{
 "cells": [
  {
   "cell_type": "markdown",
   "metadata": {},
   "source": [
    "# Virtual Document (VDoc) on Google Natural Questions \n",
    "\n",
    "In this notebook we demonstrate how to run the vdoc code on part 2 of the training set of the Google NQ dataset ([Kwiatkowski et al., 2019](https://aclanthology.org/Q19-1026/)) - `nq-train-02`.\n",
    "\n"
   ]
  },
  {
   "cell_type": "markdown",
   "metadata": {
    "jp-MarkdownHeadingCollapsed": true
   },
   "source": [
    "## Prerequisites\n",
    "\n",
    "It is assumed that the user has already setup a Python 3.11 environment and installed the requirements in `requirements.txt` following the README file.\n",
    "\n",
    "In addition to that, it is assumed that the parsed dataset file is pre-downloaded in the `nq` directory. That is: `nq/nq-train-02.jsonl.gz`. Please contact us for the file."
   ]
  },
  {
   "cell_type": "markdown",
   "metadata": {},
   "source": [
    "Make sure we have NLTK tokenizer"
   ]
  },
  {
   "cell_type": "code",
   "execution_count": null,
   "metadata": {},
   "outputs": [],
   "source": [
    "import nltk\n",
    "nltk.download('punkt_tab')"
   ]
  },
  {
   "cell_type": "markdown",
   "metadata": {
    "slideshow": {
     "slide_type": ""
    },
    "tags": []
   },
   "source": [
    "## Experimental Setup\n",
    "\n",
    "Here we define the configuration for our experiment:"
   ]
  },
  {
   "cell_type": "code",
   "execution_count": null,
   "metadata": {},
   "outputs": [],
   "source": [
    "\n",
    "\n",
    "# dataset name, file and split\n",
    "dataset_name = \"nq\"\n",
    "dataset_zip_file = 'nq-train-02.jsonl.gz'\n",
    "\n",
    "# vdoc settings\n",
    "model_name = \"sentence-transformers/all-MiniLM-L12-v2\"\n",
    "model_token_limit = 2400\n",
    "max_new_tokens = 0\n",
    "passage_len = 512\n",
    "order = \"doc\"\n",
    "\n",
    "# input and output\n",
    "import os\n",
    "input_file = os.path.join(dataset_name, dataset_zip_file)\n",
    "output_file = os.path.join(dataset_name, \"output.csv\")\n"
   ]
  },
  {
   "cell_type": "markdown",
   "metadata": {},
   "source": [
    "## Running a VDoc experiment"
   ]
  },
  {
   "cell_type": "code",
   "execution_count": null,
   "metadata": {},
   "outputs": [],
   "source": [
    "from vdoc_eval import vdoc\n",
    "\n",
    "vdoc(dataset=\"googlenq\",\n",
    "     input_file=input_file,\n",
    "     output_file=output_file,\n",
    "     model_name=model_name,\n",
    "     model_token_limit=model_token_limit,\n",
    "     max_new_tokens=max_new_tokens,\n",
    "     passage_len=passage_len,\n",
    "     order=order)"
   ]
  }
 ],
 "metadata": {
  "kernelspec": {
   "display_name": "Python 3 (ipykernel)",
   "language": "python",
   "name": "python3"
  },
  "language_info": {
   "codemirror_mode": {
    "name": "ipython",
    "version": 3
   },
   "file_extension": ".py",
   "mimetype": "text/x-python",
   "name": "python",
   "nbconvert_exporter": "python",
   "pygments_lexer": "ipython3",
   "version": "3.11.10"
  }
 },
 "nbformat": 4,
 "nbformat_minor": 4
}
