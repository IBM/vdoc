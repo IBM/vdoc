{
 "cells": [
  {
   "cell_type": "markdown",
   "metadata": {},
   "source": [
    "# Virtual Document (VDoc) on SCROLLS datasets \n",
    "\n",
    "In this notebook we demonstrate how to run the vdoc code on the Qasper dataset ([Dasigi et al., 2021](https://arxiv.org/abs/2105.03011)) which is part of the SCROLLS suite ([Shaham et al. 2022](https://arxiv.org/abs/2201.03533)).\n",
    "\n"
   ]
  },
  {
   "cell_type": "markdown",
   "metadata": {},
   "source": [
    "## Prerequisites\n",
    "\n",
    "It is assumed that the user has already setup a Python 3.11 environment and installed the requirements in `requirements.txt` following the README file.\n",
    "\n",
    "In addition to that, we will need to install the Python package `wget`"
   ]
  },
  {
   "cell_type": "code",
   "execution_count": null,
   "metadata": {},
   "outputs": [],
   "source": [
    "%pip install wget"
   ]
  },
  {
   "cell_type": "markdown",
   "metadata": {},
   "source": [
    "And to make sure we have NLTK tokenizer"
   ]
  },
  {
   "cell_type": "code",
   "execution_count": null,
   "metadata": {},
   "outputs": [],
   "source": [
    "import nltk\n",
    "nltk.download('punkt_tab')"
   ]
  },
  {
   "cell_type": "markdown",
   "metadata": {
    "slideshow": {
     "slide_type": ""
    },
    "tags": []
   },
   "source": [
    "## Experimental Setup\n",
    "\n",
    "Here we define the configuration for our experiment:"
   ]
  },
  {
   "cell_type": "code",
   "execution_count": null,
   "metadata": {},
   "outputs": [],
   "source": [
    "\n",
    "# scrolls base url\n",
    "scrolls_url = 'https://huggingface.co/datasets/tau/scrolls/resolve/main'\n",
    "\n",
    "# dataset name, file and split\n",
    "dataset_name = \"qasper\"\n",
    "dataset_zip_file = 'quality.zip'\n",
    "dataset_split = \"validation\"\n",
    "\n",
    "# vdoc settings\n",
    "model_name = \"sentence-transformers/all-MiniLM-L12-v2\"\n",
    "model_token_limit = 2400\n",
    "max_new_tokens = 0\n",
    "passage_len = 512\n",
    "order = \"doc\"\n",
    "\n",
    "# input and output\n",
    "import os\n",
    "input_file = os.path.join(dataset_name, dataset_zip_file[:dataset_zip_file.index(\".\")], f\"{dataset_split}.jsonl\")\n",
    "output_file = os.path.join(dataset_name, \"output.csv\")\n"
   ]
  },
  {
   "cell_type": "markdown",
   "metadata": {},
   "source": [
    "Now we turn to downloading Qasper from [SCROLLS](https://www.scrolls-benchmark.com/). "
   ]
  },
  {
   "cell_type": "code",
   "execution_count": null,
   "metadata": {},
   "outputs": [],
   "source": [
    "import wget\n",
    "import zipfile\n",
    "\n",
    "\n",
    "wget.download(f\"{scrolls_url}/{dataset_zip_file}\")\n",
    "with zipfile.ZipFile(dataset_zip_file, 'r') as zip_ref:\n",
    "    zip_ref.extractall(dataset_name)"
   ]
  },
  {
   "cell_type": "markdown",
   "metadata": {},
   "source": [
    "## Running a VDoc experiment"
   ]
  },
  {
   "cell_type": "code",
   "execution_count": null,
   "metadata": {},
   "outputs": [],
   "source": [
    "from vdoc_eval import vdoc\n",
    "\n",
    "vdoc(dataset=\"scrolls\",\n",
    "     input_file=input_file,\n",
    "     output_file=output_file,\n",
    "     model_name=model_name,\n",
    "     model_token_limit=model_token_limit,\n",
    "     max_new_tokens=max_new_tokens,\n",
    "     passage_len=passage_len,\n",
    "     order=order)"
   ]
  },
  {
   "cell_type": "code",
   "execution_count": null,
   "metadata": {},
   "outputs": [],
   "source": []
  }
 ],
 "metadata": {
  "kernelspec": {
   "display_name": "Python 3 (ipykernel)",
   "language": "python",
   "name": "python3"
  },
  "language_info": {
   "codemirror_mode": {
    "name": "ipython",
    "version": 3
   },
   "file_extension": ".py",
   "mimetype": "text/x-python",
   "name": "python",
   "nbconvert_exporter": "python",
   "pygments_lexer": "ipython3",
   "version": "3.11.10"
  }
 },
 "nbformat": 4,
 "nbformat_minor": 4
}
